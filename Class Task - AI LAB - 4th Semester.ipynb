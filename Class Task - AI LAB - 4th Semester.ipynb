{
 "cells": [
  {
   "cell_type": "code",
   "execution_count": 1,
   "id": "3702d753",
   "metadata": {},
   "outputs": [],
   "source": [
    "import collections\n"
   ]
  },
  {
   "cell_type": "code",
   "execution_count": 2,
   "id": "f46e618b",
   "metadata": {},
   "outputs": [
    {
     "name": "stdout",
     "output_type": "stream",
     "text": [
      "Following is Breadth First Traversal: \n",
      "0 1 2 3 21\n"
     ]
    }
   ],
   "source": [
    "\n",
    "def bfs_traversal(graph: dict, root: int) -> list:\n",
    "    \"\"\"\n",
    "    Performs a Breadth-First Search traversal of the graph starting from the root node.\n",
    "\n",
    "    Args:\n",
    "        graph (dict): The graph represented as an adjacency list.\n",
    "        root (int): The root node to start the traversal from.\n",
    "\n",
    "    Returns:\n",
    "        list: A list of nodes in the order they were visited.\n",
    "    \"\"\"\n",
    "    visited, queue = set(), collections.deque([root])\n",
    "    visited.add(root)\n",
    "    traversal_order = []\n",
    "\n",
    "    while queue:\n",
    "        vertex = queue.popleft()\n",
    "        traversal_order.append(vertex)\n",
    "        for neighbour in graph.get(vertex, []):\n",
    "            if neighbour not in visited:\n",
    "                visited.add(neighbour)\n",
    "                queue.append(neighbour)\n",
    "\n",
    "    return traversal_order\n",
    "\n",
    "def print_traversal_order(traversal_order: list) -> None:\n",
    "    \"\"\"\n",
    "    Prints the traversal order of the graph.\n",
    "\n",
    "    Args:\n",
    "        traversal_order (list): The list of nodes in the order they were visited.\n",
    "    \"\"\"\n",
    "    print(\"Following is Breadth First Traversal: \")\n",
    "    print(\" \".join(map(str, traversal_order)))\n",
    "\n",
    "if __name__ == \"__main__\":\n",
    "    graph = {0: [1, 2], 1: [2], 2: [3], 3: [1, 21]}\n",
    "    traversal_order = bfs_traversal(graph, 0)\n",
    "    print_traversal_order(traversal_order)"
   ]
  },
  {
   "cell_type": "code",
   "execution_count": null,
   "id": "ce18d7eb",
   "metadata": {},
   "outputs": [],
   "source": []
  }
 ],
 "metadata": {
  "kernelspec": {
   "display_name": "Python 3 (ipykernel)",
   "language": "python",
   "name": "python3"
  },
  "language_info": {
   "codemirror_mode": {
    "name": "ipython",
    "version": 3
   },
   "file_extension": ".py",
   "mimetype": "text/x-python",
   "name": "python",
   "nbconvert_exporter": "python",
   "pygments_lexer": "ipython3",
   "version": "3.9.13"
  }
 },
 "nbformat": 4,
 "nbformat_minor": 5
}
